{
  "nbformat": 4,
  "nbformat_minor": 0,
  "metadata": {
    "colab": {
      "name": "1. Tutorial_Baseline Model",
      "provenance": [],
      "toc_visible": true,
      "authorship_tag": "ABX9TyO2noKsIVqOXcUrJuS3v1/s",
      "include_colab_link": true
    },
    "kernelspec": {
      "name": "python3",
      "display_name": "Python 3"
    }
  },
  "cells": [
    {
      "cell_type": "markdown",
      "metadata": {
        "id": "view-in-github",
        "colab_type": "text"
      },
      "source": [
        "<a href=\"https://colab.research.google.com/github/shreyagopal/Feature-Engineering/blob/main/1.%20Baseline%20Model/1.%20Tutorial_Baseline%20Model.ipynb\" target=\"_parent\"><img src=\"https://colab.research.google.com/assets/colab-badge.svg\" alt=\"Open In Colab\"/></a>"
      ]
    },
    {
      "cell_type": "markdown",
      "metadata": {
        "id": "ex96RYgRkEfW"
      },
      "source": [
        "#**1.Baseline Model**\n",
        "\n",
        "### **Introduction**\n",
        "\n",
        "In this course, you will learn a practical approach to feature engineering. You'll be able to apply what you learn to Kaggle competitions and other machine learning applications.\n",
        "\n",
        "### **Load the data**\n",
        "We'll work with data from Kickstarter projects. The first few rows of the data looks like this:"
      ]
    },
    {
      "cell_type": "code",
      "metadata": {
        "id": "mv7O2ecdj0b6",
        "outputId": "01a21815-27b8-44da-cf32-635c97113ed6",
        "colab": {
          "base_uri": "https://localhost:8080/",
          "height": 547
        }
      },
      "source": [
        "import pandas as pd\n",
        "ks = pd.read_csv('ks-projects-201801.csv',\n",
        "                 parse_dates=['deadline', 'launched'])\n",
        "ks.head(6)"
      ],
      "execution_count": 1,
      "outputs": [
        {
          "output_type": "execute_result",
          "data": {
            "text/html": [
              "<div>\n",
              "<style scoped>\n",
              "    .dataframe tbody tr th:only-of-type {\n",
              "        vertical-align: middle;\n",
              "    }\n",
              "\n",
              "    .dataframe tbody tr th {\n",
              "        vertical-align: top;\n",
              "    }\n",
              "\n",
              "    .dataframe thead th {\n",
              "        text-align: right;\n",
              "    }\n",
              "</style>\n",
              "<table border=\"1\" class=\"dataframe\">\n",
              "  <thead>\n",
              "    <tr style=\"text-align: right;\">\n",
              "      <th></th>\n",
              "      <th>ID</th>\n",
              "      <th>name</th>\n",
              "      <th>category</th>\n",
              "      <th>main_category</th>\n",
              "      <th>currency</th>\n",
              "      <th>deadline</th>\n",
              "      <th>goal</th>\n",
              "      <th>launched</th>\n",
              "      <th>pledged</th>\n",
              "      <th>state</th>\n",
              "      <th>backers</th>\n",
              "      <th>country</th>\n",
              "      <th>usd pledged</th>\n",
              "      <th>usd_pledged_real</th>\n",
              "      <th>usd_goal_real</th>\n",
              "    </tr>\n",
              "  </thead>\n",
              "  <tbody>\n",
              "    <tr>\n",
              "      <th>0</th>\n",
              "      <td>1000002330</td>\n",
              "      <td>The Songs of Adelaide &amp; Abullah</td>\n",
              "      <td>Poetry</td>\n",
              "      <td>Publishing</td>\n",
              "      <td>GBP</td>\n",
              "      <td>2015-10-09</td>\n",
              "      <td>1000.0</td>\n",
              "      <td>2015-08-11 12:12:28</td>\n",
              "      <td>0.0</td>\n",
              "      <td>failed</td>\n",
              "      <td>0</td>\n",
              "      <td>GB</td>\n",
              "      <td>0.0</td>\n",
              "      <td>0.0</td>\n",
              "      <td>1533.95</td>\n",
              "    </tr>\n",
              "    <tr>\n",
              "      <th>1</th>\n",
              "      <td>1000003930</td>\n",
              "      <td>Greeting From Earth: ZGAC Arts Capsule For ET</td>\n",
              "      <td>Narrative Film</td>\n",
              "      <td>Film &amp; Video</td>\n",
              "      <td>USD</td>\n",
              "      <td>2017-11-01</td>\n",
              "      <td>30000.0</td>\n",
              "      <td>2017-09-02 04:43:57</td>\n",
              "      <td>2421.0</td>\n",
              "      <td>failed</td>\n",
              "      <td>15</td>\n",
              "      <td>US</td>\n",
              "      <td>100.0</td>\n",
              "      <td>2421.0</td>\n",
              "      <td>30000.00</td>\n",
              "    </tr>\n",
              "    <tr>\n",
              "      <th>2</th>\n",
              "      <td>1000004038</td>\n",
              "      <td>Where is Hank?</td>\n",
              "      <td>Narrative Film</td>\n",
              "      <td>Film &amp; Video</td>\n",
              "      <td>USD</td>\n",
              "      <td>2013-02-26</td>\n",
              "      <td>45000.0</td>\n",
              "      <td>2013-01-12 00:20:50</td>\n",
              "      <td>220.0</td>\n",
              "      <td>failed</td>\n",
              "      <td>3</td>\n",
              "      <td>US</td>\n",
              "      <td>220.0</td>\n",
              "      <td>220.0</td>\n",
              "      <td>45000.00</td>\n",
              "    </tr>\n",
              "    <tr>\n",
              "      <th>3</th>\n",
              "      <td>1000007540</td>\n",
              "      <td>ToshiCapital Rekordz Needs Help to Complete Album</td>\n",
              "      <td>Music</td>\n",
              "      <td>Music</td>\n",
              "      <td>USD</td>\n",
              "      <td>2012-04-16</td>\n",
              "      <td>5000.0</td>\n",
              "      <td>2012-03-17 03:24:11</td>\n",
              "      <td>1.0</td>\n",
              "      <td>failed</td>\n",
              "      <td>1</td>\n",
              "      <td>US</td>\n",
              "      <td>1.0</td>\n",
              "      <td>1.0</td>\n",
              "      <td>5000.00</td>\n",
              "    </tr>\n",
              "    <tr>\n",
              "      <th>4</th>\n",
              "      <td>1000011046</td>\n",
              "      <td>Community Film Project: The Art of Neighborhoo...</td>\n",
              "      <td>Film &amp; Video</td>\n",
              "      <td>Film &amp; Video</td>\n",
              "      <td>USD</td>\n",
              "      <td>2015-08-29</td>\n",
              "      <td>19500.0</td>\n",
              "      <td>2015-07-04 08:35:03</td>\n",
              "      <td>1283.0</td>\n",
              "      <td>canceled</td>\n",
              "      <td>14</td>\n",
              "      <td>US</td>\n",
              "      <td>1283.0</td>\n",
              "      <td>1283.0</td>\n",
              "      <td>19500.00</td>\n",
              "    </tr>\n",
              "    <tr>\n",
              "      <th>5</th>\n",
              "      <td>1000014025</td>\n",
              "      <td>Monarch Espresso Bar</td>\n",
              "      <td>Restaurants</td>\n",
              "      <td>Food</td>\n",
              "      <td>USD</td>\n",
              "      <td>2016-04-01</td>\n",
              "      <td>50000.0</td>\n",
              "      <td>2016-02-26 13:38:27</td>\n",
              "      <td>52375.0</td>\n",
              "      <td>successful</td>\n",
              "      <td>224</td>\n",
              "      <td>US</td>\n",
              "      <td>52375.0</td>\n",
              "      <td>52375.0</td>\n",
              "      <td>50000.00</td>\n",
              "    </tr>\n",
              "  </tbody>\n",
              "</table>\n",
              "</div>"
            ],
            "text/plain": [
              "           ID  ... usd_goal_real\n",
              "0  1000002330  ...       1533.95\n",
              "1  1000003930  ...      30000.00\n",
              "2  1000004038  ...      45000.00\n",
              "3  1000007540  ...       5000.00\n",
              "4  1000011046  ...      19500.00\n",
              "5  1000014025  ...      50000.00\n",
              "\n",
              "[6 rows x 15 columns]"
            ]
          },
          "metadata": {
            "tags": []
          },
          "execution_count": 1
        }
      ]
    },
    {
      "cell_type": "markdown",
      "metadata": {
        "id": "lVf-oxkSlH1R"
      },
      "source": [
        "The `state` column shows the outcome of the project.\n",
        "\n"
      ]
    },
    {
      "cell_type": "code",
      "metadata": {
        "id": "9nmlQNfglJmI",
        "outputId": "acb4dc40-d8d2-4cd8-de11-264c734f073d",
        "colab": {
          "base_uri": "https://localhost:8080/",
          "height": 35
        }
      },
      "source": [
        "print('Unique values in `state` column:', list(ks.state.unique()))"
      ],
      "execution_count": 2,
      "outputs": [
        {
          "output_type": "stream",
          "text": [
            "Unique values in `state` column: ['failed', 'canceled', 'successful', 'live', 'undefined', 'suspended']\n"
          ],
          "name": "stdout"
        }
      ]
    },
    {
      "cell_type": "markdown",
      "metadata": {
        "id": "qpBuL0SNlQGD"
      },
      "source": [
        "Using this data, how can we use features such as project category, currency, funding goal, and country to predict if a Kickstarter project will succeed?\n",
        "\n",
        "### **Prepare the target column**\n",
        "First we'll convert the `state` column into a target we can use in a model. Data cleaning isn't the current focus, so we'll simplify this example by:\n",
        "\n",
        "Dropping projects that are \"live\"\n",
        "Counting \"successful\" states as `outcome = 1`\n",
        "Combining every other state as `outcome = 0`"
      ]
    },
    {
      "cell_type": "code",
      "metadata": {
        "id": "9uSIRDSOlZmR"
      },
      "source": [
        "# Drop live projects\n",
        "ks = ks.query('state != \"live\"')\n",
        "\n",
        "# Add outcome column, \"successful\" == 1, others are 0\n",
        "ks = ks.assign(outcome=(ks['state'] == 'successful').astype(int))"
      ],
      "execution_count": 3,
      "outputs": []
    },
    {
      "cell_type": "markdown",
      "metadata": {
        "id": "7nMcpMsglhgA"
      },
      "source": [
        "### **Convert timestamps**\n",
        "\n",
        "Next, we convert the `launched` feature into categorical features we can use in a model. Since we loaded the columns as timestamp data, we access date and time values through the `.dt` attribute on the timestamp column.\n"
      ]
    },
    {
      "cell_type": "code",
      "metadata": {
        "id": "YJsYzZtalo8g"
      },
      "source": [
        "ks = ks.assign(hour=ks.launched.dt.hour,\n",
        "               day=ks.launched.dt.day,\n",
        "               month=ks.launched.dt.month,\n",
        "               year=ks.launched.dt.year)"
      ],
      "execution_count": 4,
      "outputs": []
    },
    {
      "cell_type": "markdown",
      "metadata": {
        "id": "Mn2OfmDImOEY"
      },
      "source": [
        "### **Prep categorical variables**\n",
        "\n",
        "Now for the categorical variables -- `category`, `currency`, and `country` -- we'll need to convert them into integers so our model can use the data. For this we'll use scikit-learn's `LabelEncoder`. This assigns an integer to each value of the categorical feature.\n",
        "\n"
      ]
    },
    {
      "cell_type": "code",
      "metadata": {
        "id": "ktAZcxUUlqAx"
      },
      "source": [
        "from sklearn.preprocessing import LabelEncoder\n",
        "\n",
        "cat_features = ['category', 'currency', 'country']\n",
        "encoder = LabelEncoder()\n",
        "\n",
        "# Apply the label encoder to each column\n",
        "encoded = ks[cat_features].apply(encoder.fit_transform)"
      ],
      "execution_count": 5,
      "outputs": []
    },
    {
      "cell_type": "markdown",
      "metadata": {
        "id": "5R7zsJsgm6DT"
      },
      "source": [
        "We collect all of these features in a new dataframe that we can use to train a model.\n",
        "\n"
      ]
    },
    {
      "cell_type": "code",
      "metadata": {
        "id": "rvUYGrKhm6Yw",
        "outputId": "0e42d88e-a076-4b23-f7da-dc5265a768b2",
        "colab": {
          "base_uri": "https://localhost:8080/",
          "height": 202
        }
      },
      "source": [
        "# Since ks and encoded have the same index and I can easily join them\n",
        "data = ks[['goal', 'hour', 'day', 'month', 'year', 'outcome']].join(encoded)\n",
        "data.head()"
      ],
      "execution_count": 6,
      "outputs": [
        {
          "output_type": "execute_result",
          "data": {
            "text/html": [
              "<div>\n",
              "<style scoped>\n",
              "    .dataframe tbody tr th:only-of-type {\n",
              "        vertical-align: middle;\n",
              "    }\n",
              "\n",
              "    .dataframe tbody tr th {\n",
              "        vertical-align: top;\n",
              "    }\n",
              "\n",
              "    .dataframe thead th {\n",
              "        text-align: right;\n",
              "    }\n",
              "</style>\n",
              "<table border=\"1\" class=\"dataframe\">\n",
              "  <thead>\n",
              "    <tr style=\"text-align: right;\">\n",
              "      <th></th>\n",
              "      <th>goal</th>\n",
              "      <th>hour</th>\n",
              "      <th>day</th>\n",
              "      <th>month</th>\n",
              "      <th>year</th>\n",
              "      <th>outcome</th>\n",
              "      <th>category</th>\n",
              "      <th>currency</th>\n",
              "      <th>country</th>\n",
              "    </tr>\n",
              "  </thead>\n",
              "  <tbody>\n",
              "    <tr>\n",
              "      <th>0</th>\n",
              "      <td>1000.0</td>\n",
              "      <td>12</td>\n",
              "      <td>11</td>\n",
              "      <td>8</td>\n",
              "      <td>2015</td>\n",
              "      <td>0</td>\n",
              "      <td>108</td>\n",
              "      <td>5</td>\n",
              "      <td>9</td>\n",
              "    </tr>\n",
              "    <tr>\n",
              "      <th>1</th>\n",
              "      <td>30000.0</td>\n",
              "      <td>4</td>\n",
              "      <td>2</td>\n",
              "      <td>9</td>\n",
              "      <td>2017</td>\n",
              "      <td>0</td>\n",
              "      <td>93</td>\n",
              "      <td>13</td>\n",
              "      <td>22</td>\n",
              "    </tr>\n",
              "    <tr>\n",
              "      <th>2</th>\n",
              "      <td>45000.0</td>\n",
              "      <td>0</td>\n",
              "      <td>12</td>\n",
              "      <td>1</td>\n",
              "      <td>2013</td>\n",
              "      <td>0</td>\n",
              "      <td>93</td>\n",
              "      <td>13</td>\n",
              "      <td>22</td>\n",
              "    </tr>\n",
              "    <tr>\n",
              "      <th>3</th>\n",
              "      <td>5000.0</td>\n",
              "      <td>3</td>\n",
              "      <td>17</td>\n",
              "      <td>3</td>\n",
              "      <td>2012</td>\n",
              "      <td>0</td>\n",
              "      <td>90</td>\n",
              "      <td>13</td>\n",
              "      <td>22</td>\n",
              "    </tr>\n",
              "    <tr>\n",
              "      <th>4</th>\n",
              "      <td>19500.0</td>\n",
              "      <td>8</td>\n",
              "      <td>4</td>\n",
              "      <td>7</td>\n",
              "      <td>2015</td>\n",
              "      <td>0</td>\n",
              "      <td>55</td>\n",
              "      <td>13</td>\n",
              "      <td>22</td>\n",
              "    </tr>\n",
              "  </tbody>\n",
              "</table>\n",
              "</div>"
            ],
            "text/plain": [
              "      goal  hour  day  month  year  outcome  category  currency  country\n",
              "0   1000.0    12   11      8  2015        0       108         5        9\n",
              "1  30000.0     4    2      9  2017        0        93        13       22\n",
              "2  45000.0     0   12      1  2013        0        93        13       22\n",
              "3   5000.0     3   17      3  2012        0        90        13       22\n",
              "4  19500.0     8    4      7  2015        0        55        13       22"
            ]
          },
          "metadata": {
            "tags": []
          },
          "execution_count": 6
        }
      ]
    },
    {
      "cell_type": "markdown",
      "metadata": {
        "id": "qWAdr1cBnAgt"
      },
      "source": [
        "### **Create training, validation, and test splits**\n",
        "\n",
        "We need to create data sets for training, validation, and testing. We'll use a fairly simple approach and split the data using slices. We'll use 10% of the data as a validation set, 10% for testing, and the other 80% for training."
      ]
    },
    {
      "cell_type": "code",
      "metadata": {
        "id": "J5swhF0anGTB"
      },
      "source": [
        "valid_fraction = 0.1\n",
        "valid_size = int(len(data) * valid_fraction)\n",
        "\n",
        "train = data[:-2 * valid_size]\n",
        "valid = data[-2 * valid_size:-valid_size]\n",
        "test = data[-valid_size:]"
      ],
      "execution_count": 7,
      "outputs": []
    },
    {
      "cell_type": "markdown",
      "metadata": {
        "id": "-jcgzlC1nOuU"
      },
      "source": [
        "### **Train a model**\n",
        "\n",
        "For this course we'll be using a LightGBM model. This is a tree-based model that typically provides the best performance, even compared to XGBoost. It's also relatively fast to train.\n",
        "\n",
        "We won't do hyperparameter optimization because that isn't the goal of this course. So, our models won't be the absolute best performance you can get. But you'll still see model performance improve as we do feature engineering."
      ]
    },
    {
      "cell_type": "code",
      "metadata": {
        "id": "QBw6pM_JnOQv"
      },
      "source": [
        "import lightgbm as lgb\n",
        "\n",
        "feature_cols = train.columns.drop('outcome')\n",
        "\n",
        "dtrain = lgb.Dataset(train[feature_cols], label=train['outcome'])\n",
        "dvalid = lgb.Dataset(valid[feature_cols], label=valid['outcome'])\n",
        "\n",
        "param = {'num_leaves': 64, 'objective': 'binary'}\n",
        "param['metric'] = 'auc'\n",
        "num_round = 1000\n",
        "bst = lgb.train(param, dtrain, num_round, valid_sets=[dvalid], early_stopping_rounds=10, verbose_eval=False)"
      ],
      "execution_count": 8,
      "outputs": []
    },
    {
      "cell_type": "markdown",
      "metadata": {
        "id": "jGZYPj0VnWOX"
      },
      "source": [
        "### **Make predictions & evaluate the model**\n",
        "Finally, let's make predictions on the test set with the model and see how well it performs. An important thing to remember is that you can overfit to the validation data. This is why we need a test set that the model never sees until the final evaluation."
      ]
    },
    {
      "cell_type": "code",
      "metadata": {
        "id": "14J4ii1NnaeS",
        "outputId": "a474a1d3-df4e-45b6-8f9e-69f1452ba194",
        "colab": {
          "base_uri": "https://localhost:8080/",
          "height": 35
        }
      },
      "source": [
        "from sklearn import metrics\n",
        "ypred = bst.predict(test[feature_cols])\n",
        "score = metrics.roc_auc_score(test['outcome'], ypred)\n",
        "\n",
        "print(f\"Test AUC score: {score}\")"
      ],
      "execution_count": 9,
      "outputs": [
        {
          "output_type": "stream",
          "text": [
            "Test AUC score: 0.747615303004287\n"
          ],
          "name": "stdout"
        }
      ]
    }
  ]
}